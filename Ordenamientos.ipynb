{
  "nbformat": 4,
  "nbformat_minor": 0,
  "metadata": {
    "colab": {
      "provenance": []
    },
    "kernelspec": {
      "name": "python3",
      "display_name": "Python 3"
    },
    "language_info": {
      "name": "python"
    }
  },
  "cells": [
    {
      "cell_type": "markdown",
      "source": [
        "\n",
        "* Algoritmo búsqueda binaria --> Python\n",
        "* Algoritmo BucketSort --> Python\n",
        "* Algoritmo Megesort --> Python\n",
        "* Algoritmo Quicksort --> Python\n",
        "* Algoritmo burbuja --> Python\n",
        "* Proyecto final\n",
        "* Algoritmo de la Subcadena común más larga --> Java\n",
        "* Segunda asignación\n",
        "* Primera asignación"
      ],
      "metadata": {
        "id": "TedU9rJW4Yxu"
      }
    },
    {
      "cell_type": "code",
      "source": [
        "#Algoritmo Burbuja\n",
        "Lista = [228,230,230,227,229,230,231,228,225,226]\n",
        "def Burbuja(Lista):\n",
        "    for i in range(len(Lista)):\n",
        "        for j in range(len(Lista)-1):\n",
        "            if(Lista[j]>Lista[j+1]):\n",
        "                Lista[j],Lista[j+1]=Lista[j+1],Lista[j]\n",
        "    return Lista\n",
        "Burbuja(Lista)"
      ],
      "metadata": {
        "colab": {
          "base_uri": "https://localhost:8080/"
        },
        "id": "kzG6ZyIoQoHj",
        "outputId": "23cf01cd-6e9f-40a6-9a95-22b6c7ce12dc"
      },
      "execution_count": null,
      "outputs": [
        {
          "output_type": "execute_result",
          "data": {
            "text/plain": [
              "[225, 226, 227, 228, 228, 229, 230, 230, 230, 231]"
            ]
          },
          "metadata": {},
          "execution_count": 53
        }
      ]
    },
    {
      "cell_type": "code",
      "source": [
        "#Algoritmo Quicksort\n",
        "def seleccionarPivote(Lista,prom=True):\n",
        "    if(prom):\n",
        "        return sum(Lista)/len(Lista)\n",
        "    else:\n",
        "        return (Lista[0]+Lista[-1])/2\n",
        "\n",
        "def Dividir(Lista,p):\n",
        "    Lmen=[]\n",
        "    Lmay=[]\n",
        "    for e in Lista:\n",
        "        if(e>p):\n",
        "            Lmay.append(e)\n",
        "        else:\n",
        "            Lmen.append(e)\n",
        "    return Lmen,Lmay\n",
        "\n",
        "def repetidos(Lista):\n",
        "    for i in range(len(Lista)-1):\n",
        "        if(not Lista[i]==Lista[i+1]):\n",
        "            return False\n",
        "    return True\n",
        "\n",
        "def Quicksort(Lista):\n",
        "    if(len(Lista)>=2 and not repetidos(Lista)):\n",
        "        p=seleccionarPivote(Lista)\n",
        "        Lmen,Lmay=Dividir(Lista,p)\n",
        "        Lmen=Quicksort(Lmen)\n",
        "        Lmay=Quicksort(Lmay)\n",
        "        return Lmen+Lmay\n",
        "    else:\n",
        "        return Lista\n",
        "\n",
        "Quicksort(Lista)"
      ],
      "metadata": {
        "colab": {
          "base_uri": "https://localhost:8080/"
        },
        "id": "E-6ohqUYWUWY",
        "outputId": "be966fcc-487f-4d5a-fbc8-2922eae37ead"
      },
      "execution_count": null,
      "outputs": [
        {
          "output_type": "execute_result",
          "data": {
            "text/plain": [
              "[225, 226, 227, 228, 228, 229, 230, 230, 230, 231]"
            ]
          },
          "metadata": {},
          "execution_count": 52
        }
      ]
    },
    {
      "cell_type": "code",
      "source": [
        "#Algoritmo MergeSort\n",
        "def MergeSort(Lista):\n",
        "    if(len(Lista)>=2 and not repetidos(Lista)):\n",
        "        ListaA,ListaB = DividirM(Lista)\n",
        "        ListaA=MergeSort(ListaA)\n",
        "        ListaB=MergeSort(ListaB)\n",
        "        return Merge(ListaA,ListaB)\n",
        "    else:\n",
        "        return Lista\n",
        "\n",
        "def Merge(ListaA,ListaB):\n",
        "    R=[]\n",
        "    while(len(ListaA)>0 and len(ListaB)>0):\n",
        "        if(ListaA[0]<ListaB[0]):\n",
        "            R.append(ListaA[0])\n",
        "            ListaA.pop(0)\n",
        "        else:\n",
        "            R.append(ListaB[0])\n",
        "            ListaB.pop(0)\n",
        "    return R+ListaA+ListaB\n",
        "\n",
        "def DividirM(Lista):\n",
        "    n=len(Lista)\n",
        "    return Lista[0:int(n/2)],Lista[int(n/2):]\n",
        "\n",
        "MergeSort(Lista)"
      ],
      "metadata": {
        "colab": {
          "base_uri": "https://localhost:8080/"
        },
        "id": "jxGgvaevWeRv",
        "outputId": "be240d1a-16e9-466a-ffb9-bd2f253272e9"
      },
      "execution_count": null,
      "outputs": [
        {
          "output_type": "execute_result",
          "data": {
            "text/plain": [
              "[225, 226, 227, 228, 228, 229, 230, 230, 230, 231]"
            ]
          },
          "metadata": {},
          "execution_count": 51
        }
      ]
    },
    {
      "cell_type": "code",
      "source": [
        "#Algoritmo BucketSort\n",
        "def BucketSort(Lista):\n",
        "    mayor=Lista[0]\n",
        "    menor=Lista[0]\n",
        "    for i in range(len(Lista)):\n",
        "        if(mayor<Lista[i]):\n",
        "            mayor=Lista[i]\n",
        "        if(menor>Lista[i]):\n",
        "            menor=Lista[i]\n",
        "    t=mayor-menor+1\n",
        "    buckets=[]\n",
        "    for i in range(t):\n",
        "        buckets.append(0)\n",
        "    for e in Lista:\n",
        "        buckets[e-menor]+=1\n",
        "    for i in range(len(buckets)):\n",
        "        if(not buckets[i]==0):\n",
        "            for j in range(buckets[i]):\n",
        "                print(i+menor, end=\" \")\n",
        "\n",
        "BucketSort(Lista)"
      ],
      "metadata": {
        "colab": {
          "base_uri": "https://localhost:8080/"
        },
        "id": "7F9X_HEII1fo",
        "outputId": "85e5a4c1-813d-4fd9-917a-599ab85c62ca"
      },
      "execution_count": null,
      "outputs": [
        {
          "output_type": "stream",
          "name": "stdout",
          "text": [
            "225 226 227 228 228 229 230 230 230 231 "
          ]
        }
      ]
    },
    {
      "cell_type": "code",
      "source": [
        "#Algoritmo busqueda binaria\n",
        "#Cuadrado magico 3x3\n",
        "class arbol:\n",
        "    def __init__(self,nodo):\n",
        "        self.raiz = nodo\n",
        "\n",
        "class nodo:\n",
        "    def __init__(self,cont,conteo):\n",
        "        self.contenido = cont\n",
        "        self.conteo=conteo\n",
        "        self.hijos = []\n",
        "    def añadeHijos(self,n):\n",
        "        for i in range(9):\n",
        "            j=int(i/3)\n",
        "            k=i%3\n",
        "            if(self.contenido[j][k]==0):\n",
        "                contHijo = []\n",
        "                conteoHijo = self.conteo\n",
        "                contHijo.append(self.contenido[0].copy())\n",
        "                contHijo.append(self.contenido[1].copy())\n",
        "                contHijo.append(self.contenido[2].copy())\n",
        "                contHijo[j][k]=n+1\n",
        "                nod = nodo(contHijo,conteoHijo)\n",
        "                if(comprueba(contHijo)):\n",
        "                    nod.añadeHijos(n+1)\n",
        "                    if(n==8):\n",
        "                        self.conteo[0]+=1\n",
        "                        #print(contHijo)\n",
        "                        sumaBien(contHijo)\n",
        "                self.hijos.append(nod)\n",
        "\n",
        "def comprueba(cont):\n",
        "    filasBien = compruebaFilas(cont)\n",
        "    columnasBien = compruebaColumnas(cont)\n",
        "    diagBien = compruebaDiag(cont)\n",
        "    return filasBien and columnasBien and diagBien\n",
        "\n",
        "def compruebaFilas(cont):\n",
        "    for e in cont:\n",
        "        if(not 0 in e):\n",
        "            if(not sum(e)==15):\n",
        "                return False\n",
        "    return True\n",
        "\n",
        "def compruebaColumnas(cont):\n",
        "    k=0\n",
        "    while(k<3):\n",
        "        suma = 0\n",
        "        j=0\n",
        "        while(j<3 and j>0):\n",
        "            if(cont[j][k]==0):\n",
        "                j=-1\n",
        "            else:\n",
        "                suma+=cont[j][k]\n",
        "            j+=1\n",
        "        if(j==3):\n",
        "            if(not suma == 15):\n",
        "                return False\n",
        "        k+=1\n",
        "    return True\n",
        "\n",
        "def compruebaDiag(cont):\n",
        "    diag1=[cont[0][0],cont[1][1],cont[2][2]]\n",
        "    diag2=[cont[2][0],cont[1][1],cont[0][2]]\n",
        "\n",
        "    if(not 0 in diag1):\n",
        "        if(not sum(diag1)==15):\n",
        "            return False\n",
        "\n",
        "    if(not 0 in diag2):\n",
        "        if(not sum(diag2)==15):\n",
        "            return False\n",
        "\n",
        "    return True\n",
        "\n",
        "def sumaBien(contHijo):\n",
        "    if((contHijo[0][0])+(contHijo[1][0])+(contHijo[2][0])==15):\n",
        "        if((contHijo[0][1])+(contHijo[1][1])+(contHijo[2][1])==15):\n",
        "            if((contHijo[0][2])+(contHijo[1][2])+(contHijo[2][2])==15):\n",
        "                print(contHijo)\n",
        "\n",
        "A = arbol(nodo([[0,0,0],[0,0,0],[0,0,0]],[0]))\n",
        "A.raiz.añadeHijos(0)"
      ],
      "metadata": {
        "colab": {
          "base_uri": "https://localhost:8080/"
        },
        "id": "6i8L0NFrYLWX",
        "outputId": "f78b4a03-a7af-4ad0-dd52-0a9e67459517"
      },
      "execution_count": null,
      "outputs": [
        {
          "output_type": "stream",
          "name": "stdout",
          "text": [
            "[[6, 1, 8], [7, 5, 3], [2, 9, 4]]\n",
            "[[8, 1, 6], [3, 5, 7], [4, 9, 2]]\n",
            "[[6, 7, 2], [1, 5, 9], [8, 3, 4]]\n",
            "[[8, 3, 4], [1, 5, 9], [6, 7, 2]]\n",
            "[[2, 7, 6], [9, 5, 1], [4, 3, 8]]\n",
            "[[4, 3, 8], [9, 5, 1], [2, 7, 6]]\n",
            "[[2, 9, 4], [7, 5, 3], [6, 1, 8]]\n",
            "[[4, 9, 2], [3, 5, 7], [8, 1, 6]]\n"
          ]
        }
      ]
    },
    {
      "cell_type": "code",
      "source": [
        "\"\"\"\n",
        "Se tiene una mochila con capacidad máxima W. Y se tiene un conjunto de objetos\n",
        "O que está compuesto por objetos oi={pi,bi}, dónde pi es el peso del objeto i\n",
        "y bi es el beneficio que me da llevar el objeto i en la mochila.\n",
        "\n",
        "Para cualquier conjunto de objetos O. Encontrar un algoritmo que siempre me de\n",
        "la configuración con beneficio máximo que puedo llevar.\n",
        "\"\"\"\n",
        "\n",
        "\"\"\"\n",
        "Inicio\n",
        "Definir la capacidad maxima de W\n",
        "Definir arreglo de objetos con peso y beneficio\n",
        "Mientras no pase por todos los elementos del arreglo\n",
        "    si existe una mochila\n",
        "        copiar todas las mochilas existentes cambiando el ultimo valor por el siguiente que le sigue\n",
        "        agregar siguiente elemento\n",
        "    sino\n",
        "        crear una mochila agregando un elemento\n",
        "\n",
        "\n",
        "\n",
        "\"\"\""
      ],
      "metadata": {
        "colab": {
          "base_uri": "https://localhost:8080/"
        },
        "id": "jro4MmCRaBK8",
        "outputId": "bc237204-1e3d-4759-d70e-1df449fc3705"
      },
      "execution_count": null,
      "outputs": [
        {
          "output_type": "stream",
          "name": "stdout",
          "text": [
            "4\n"
          ]
        }
      ]
    },
    {
      "cell_type": "code",
      "source": [],
      "metadata": {
        "colab": {
          "base_uri": "https://localhost:8080/"
        },
        "id": "KtdvGqOL76yV",
        "outputId": "70f4b591-a652-499f-972e-5072c6db687b"
      },
      "execution_count": null,
      "outputs": [
        {
          "output_type": "stream",
          "name": "stdout",
          "text": [
            "Knapsack value is 1116\n"
          ]
        }
      ]
    }
  ]
}